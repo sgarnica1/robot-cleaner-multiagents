{
 "cells": [
  {
   "cell_type": "markdown",
   "metadata": {},
   "source": [
    "# Robot de Almacén"
   ]
  },
  {
   "cell_type": "markdown",
   "metadata": {},
   "source": [
    "### Datos a considerar\n",
    "- La semilla para generación de números aleatorios será 67890.\n",
    "- El almacén es 20x20 celdas.\n",
    "- Al inicio de la simulación, tu solución deberá colocar 200 cajas repartidas en grupos de 1 a 3 cajas en posiciones aleatorias.\n",
    "- Todos los robots empiezan en posiciones aleatorias vacías. Y, sólo puede haber un robot por celda.\n",
    "- La simulación termina cuando todas las cajas se encuentra apiladas en pilas de exactamente 5 cajas.\n"
   ]
  },
  {
   "cell_type": "markdown",
   "metadata": {},
   "source": [
    "### Resultados\n",
    "-\tDescripción detallada de la estrategia y los mecanismos utilizados en tu solución.\n",
    "-\tUna visualización que permita ver los diferentes pasos de la simulación.\n",
    "-\tEl número de pasos necesarios para terminar la simulación.\n",
    "-\t¿Existe una forma de reducir el número de pasos utilizados? Si es así, ¿cuál es la estrategia que se tendría en implementar?\n"
   ]
  },
  {
   "cell_type": "markdown",
   "metadata": {},
   "source": [
    "### Imports\n",
    "\n",
    "Antes de empezar a crear el modelo del juego de la vida con multiagentes es necesario tener instalado los siguientes paquetes:\n",
    "- `python`: asegúrense de usar la versión 3+.\n",
    "- `mesa`: el framework de Python para el modelado de agentes.\n",
    "- `numpy`: es una biblioteca de Python para el manejo de matrices, arreglos, manipulación matemática, lógica y mucho más.\n",
    "- `matplotlib`: es una biblioteca para crear visualizaciones estáticas, animadas e interactivas en Python.\n",
    "\n",
    "Para poder modelar a los integrantes de nuestro sistema usando el framework de `mesa` es necesario importar dos clases: una para el modelo general, y otro para los agentes."
   ]
  },
  {
   "cell_type": "code",
   "execution_count": 1,
   "metadata": {},
   "outputs": [],
   "source": [
    "# Importamos las clases que se requieren para manejar los agentes (Agent) y su entorno (Model).\n",
    "# Cada modelo puede contener múltiples agentes.\n",
    "from mesa import Agent, Model\n",
    "from mesa.time import SimultaneousActivation\n",
    "from mesa.space import MultiGrid\n",
    "\n",
    "# Haremos uso de ''DataCollector'' para obtener información de cada paso de la simulación.\n",
    "from mesa.datacollection import DataCollector\n",
    "\n",
    "# matplotlib lo usaremos crear una animación de cada uno de los pasos del modelo.\n",
    "%matplotlib inline\n",
    "import matplotlib\n",
    "import matplotlib.pyplot as plt\n",
    "import matplotlib.animation as animation\n",
    "plt.rcParams[\"animation.html\"] = \"jshtml\"\n",
    "matplotlib.rcParams['animation.embed_limit'] = 2**128\n",
    "\n",
    "# Importamos los siguientes paquetes para el mejor manejo de valores numéricos.\n",
    "import numpy as np\n",
    "import pandas as pd\n",
    "import random\n",
    "\n",
    "# Definimos otros paquetes que vamos a usar para medir el tiempo de ejecución de nuestro algoritmo.\n",
    "import time\n",
    "import datetime"
   ]
  },
  {
   "cell_type": "code",
   "execution_count": 2,
   "metadata": {},
   "outputs": [],
   "source": [
    "class RobotAgent(Agent):\n",
    "    def __init__(self, id, model):\n",
    "        super().__init__(id, model)\n",
    "        self.id = id\n",
    "        self.has_box = False\n",
    "        self.target = None\n",
    "        self.found_boxes = np.zeros((model.grid.width, model.grid.height), dtype=int)\n",
    "        self.boxes = 0\n",
    "\n",
    "    def step(self):\n",
    "        \"\"\"\n",
    "        Función que ejecuta el comportamiento del robot en cada paso de la simulación.\n",
    "        \"\"\"\n",
    "        self.stop()\n",
    "\n",
    "        possible_cells = self.model.grid.get_neighborhood(\n",
    "            self.pos, moore=False, include_center = False)\n",
    "\n",
    "        if self.target:\n",
    "            self.move_to_target()\n",
    "            return\n",
    "\n",
    "        self.analyze(possible_cells)\n",
    "        self.move(possible_cells)\n",
    "\n",
    "    def stop(self):\n",
    "        \"\"\"\n",
    "        Función que detiene la simulación cuando el robot ha encontrado todas las cajas.\n",
    "        \"\"\"\n",
    "        us = self.find_uncompleted_stacks()\n",
    "        found_boxes_quantity = np.count_nonzero(self.found_boxes)\n",
    "        total_boxes_quantity = np.count_nonzero(self.model.boxes)\n",
    "\n",
    "        if (us == [] and found_boxes_quantity == total_boxes_quantity):\n",
    "            print(\"Robot \" + str(self.id) + \" ha apilado todas las cajas\")\n",
    "            self.model.running = False\n",
    "\n",
    "    def move(self, possible_cells):\n",
    "        \"\"\"\n",
    "        Función que mueve al robot a una celda aleatoria.\n",
    "        \"\"\"\n",
    "        new_position = random.choice(possible_cells)\n",
    "\n",
    "        possible_movs = 4\n",
    "        while(self.model.boxes[new_position] > 0):\n",
    "            new_position = random.choice(possible_cells)\n",
    "            possible_movs -= 1\n",
    "            if (possible_movs == 0):\n",
    "                return\n",
    "\n",
    "        self.model.grid.move_agent(self, new_position)\n",
    "        self.pos = new_position\n",
    "\n",
    "    def analyze(self, possible_cells):\n",
    "        \"\"\"\n",
    "        Función que busca cajas en las celdas vecinas y las recoge o deja\n",
    "        según el número de cajas que haya en la celda.\n",
    "        \"\"\"\n",
    "        for cell in possible_cells:\n",
    "            if self.model.boxes[cell] > 0:\n",
    "                self.found_boxes[cell] = self.model.boxes[cell]\n",
    "                if self.has_box and self.model.boxes[cell] < 5:\n",
    "                    self.stack_box(cell)\n",
    "                elif not self.has_box and self.model.boxes[cell] < 3:\n",
    "                    self.pick_box(cell)\n",
    "                    us = self.find_uncompleted_stacks()\n",
    "                    if us != [] and self.target == None:\n",
    "                        self.target = random.choice(us)\n",
    "\n",
    "\n",
    "    def pick_box(self, cell):\n",
    "        \"\"\"\n",
    "        Función que recoge una caja de una celda y actualiza los valores de\n",
    "        las cajas en el modelo.\n",
    "        \"\"\"\n",
    "        self.has_box = True\n",
    "        self.model.boxes[cell] -= 1\n",
    "        self.found_boxes[cell] -= 1\n",
    "\n",
    "    def stack_box(self, cell):\n",
    "        \"\"\"\n",
    "        Función que deja una caja en una celda y actualiza los valores de las cajas en el modelo.\n",
    "        \"\"\"\n",
    "        self.has_box = False\n",
    "        self.model.boxes[cell] += 1\n",
    "        self.found_boxes[cell] += 1\n",
    "\n",
    "    def find_uncompleted_stacks(self):\n",
    "        \"\"\"\n",
    "        Función que calcula el número de cajas que el robot ha recogido.\n",
    "        \"\"\"\n",
    "        unstacked_boxes = []\n",
    "        for x in range(self.model.grid.width):\n",
    "            for y in range(self.model.grid.height):\n",
    "                if self.found_boxes[x][y] < 4 and self.found_boxes[x][y] > 2:\n",
    "                    unstacked_boxes.append((x,y))\n",
    "        return unstacked_boxes\n",
    "\n",
    "    def move_to_target(self):\n",
    "        \"\"\"\n",
    "        Función que mueve al robot a la celda objetivo un paso más cerca por cada paso de la simulación.\n",
    "        \"\"\"\n",
    "        neighbor_cells = self.model.grid.get_neighborhood(\n",
    "            self.pos, moore=False, include_center = False)\n",
    "\n",
    "        if self.target in neighbor_cells:\n",
    "            self.stack_box(self.target)\n",
    "            self.target = None\n",
    "            return\n",
    "\n",
    "        new_position = ()\n",
    "        if self.pos[0] < self.target[0]:\n",
    "            new_position = (self.pos[0] + 1, self.pos[1])\n",
    "        elif self.pos[0] > self.target[0]:\n",
    "            new_position = (self.pos[0] - 1, self.pos[1])\n",
    "        elif self.pos[1] < self.target[1]:\n",
    "            new_position = (self.pos[0], self.pos[1] + 1)\n",
    "        elif self.pos[1] > self.target[1]:\n",
    "            new_position = (self.pos[0], self.pos[1] - 1)\n",
    "\n",
    "        self.model.grid.move_agent(self, new_position)\n",
    "        self.pos = new_position"
   ]
  },
  {
   "cell_type": "code",
   "execution_count": 3,
   "metadata": {},
   "outputs": [],
   "source": [
    "def get_robots(model):\n",
    "    return np.asarray([agent.pos for agent in model.schedule.agents])"
   ]
  },
  {
   "cell_type": "code",
   "execution_count": 4,
   "metadata": {},
   "outputs": [],
   "source": [
    "def get_boxes(model):\n",
    "    return model.boxes"
   ]
  },
  {
   "cell_type": "code",
   "execution_count": 5,
   "metadata": {},
   "outputs": [],
   "source": [
    "class WarehouseModel(Model):\n",
    "    def __init__(self, width, height, num_agents, num_boxes):\n",
    "        self.schedule = SimultaneousActivation(self)\n",
    "        self.grid = MultiGrid(width, height, torus=False)\n",
    "        self.boxes = np.zeros((width, height), dtype=int)\n",
    "        self.datacollector = DataCollector(model_reporters={\"Robot\": get_robots, \"Boxes\": get_boxes})\n",
    "        self.running = True\n",
    "\n",
    "        init_boxes = 0\n",
    "        while init_boxes < num_boxes:\n",
    "            x, y = np.random.randint(0, width), np.random.randint(0, height)\n",
    "            if self.boxes[x, y] < 3:\n",
    "              self.boxes[x, y] += 1\n",
    "              init_boxes += 1\n",
    "\n",
    "        agent_pos = []\n",
    "        while len(agent_pos) < num_agents:\n",
    "            x, y = np.random.randint(0, width), np.random.randint(0, height)\n",
    "            if (x, y) not in agent_pos and self.boxes[x, y] == 0:\n",
    "                agent = RobotAgent(len(agent_pos), self)\n",
    "                self.schedule.add(agent)\n",
    "                self.grid.place_agent(agent, (x, y))\n",
    "                agent_pos.append((x, y))\n",
    "\n",
    "        print(f\"Initial boxes: \\n{self.boxes}\")\n",
    "\n",
    "    def step(self):\n",
    "         if self.running == False:\n",
    "             return\n",
    "\n",
    "         self.datacollector.collect(self)\n",
    "         self.schedule.step()"
   ]
  },
  {
   "cell_type": "code",
   "execution_count": 6,
   "metadata": {},
   "outputs": [],
   "source": [
    "WIDTH = 20\n",
    "HEIGHT = 20\n",
    "ROBOTS = 1\n",
    "ITERATIONS = 50000\n",
    "MAX_BOXES = 200\n",
    "SEED = 67890\n",
    "random.seed(SEED)"
   ]
  },
  {
   "cell_type": "code",
   "execution_count": 7,
   "metadata": {},
   "outputs": [
    {
     "name": "stdout",
     "output_type": "stream",
     "text": [
      "Initial boxes: \n",
      "[[0 1 0 0 0 0 1 1 0 0 0 2 0 1 0 0 1 1 1 0]\n",
      " [0 0 2 0 0 2 2 1 1 0 0 1 0 0 0 0 1 1 0 3]\n",
      " [1 0 0 1 1 0 0 1 0 0 1 0 0 0 0 0 0 1 0 0]\n",
      " [0 1 0 0 2 1 0 1 2 1 2 0 0 1 2 0 1 1 0 0]\n",
      " [0 1 1 0 2 0 1 0 0 0 1 2 0 0 0 0 2 0 1 0]\n",
      " [2 0 1 0 0 0 3 0 0 0 0 1 2 0 0 1 1 1 0 0]\n",
      " [0 0 0 0 1 0 0 0 1 0 1 0 0 0 0 0 0 0 2 0]\n",
      " [0 0 1 1 1 0 0 1 0 0 1 2 0 3 0 1 0 0 1 0]\n",
      " [0 0 0 2 0 2 0 0 1 1 0 0 1 0 0 1 1 0 2 0]\n",
      " [0 0 0 2 0 0 0 1 0 0 0 0 0 1 1 2 0 0 1 0]\n",
      " [0 0 1 0 0 0 0 0 0 0 3 0 0 2 2 0 0 0 0 0]\n",
      " [0 0 0 1 1 1 0 0 0 0 0 0 1 0 1 1 1 0 0 1]\n",
      " [0 0 0 0 1 1 1 1 0 1 0 1 2 1 1 0 0 0 0 0]\n",
      " [0 1 1 0 1 0 1 0 0 2 0 0 0 0 2 1 0 0 1 0]\n",
      " [0 1 0 0 0 1 0 2 1 3 0 1 0 0 0 0 0 0 0 1]\n",
      " [1 0 2 0 0 1 1 0 1 0 0 1 1 2 0 1 0 0 0 1]\n",
      " [0 0 1 1 0 0 1 0 0 1 0 1 0 2 2 2 0 0 0 1]\n",
      " [1 1 0 2 0 0 1 0 0 0 0 0 2 0 0 1 1 0 0 0]\n",
      " [0 0 1 1 1 1 0 0 0 0 0 0 0 0 0 1 1 2 0 1]\n",
      " [1 0 0 0 1 1 0 0 1 0 0 2 1 0 0 0 2 0 0 0]]\n",
      "Robot 0 ha apilado todas las cajas\n",
      "Steps: 2942\n"
     ]
    }
   ],
   "source": [
    "model = WarehouseModel(WIDTH, HEIGHT, ROBOTS, MAX_BOXES)\n",
    "steps = 0\n",
    "while (model.running):\n",
    "    model.step()\n",
    "    steps += 1\n",
    "    if (steps == ITERATIONS):\n",
    "        break\n",
    "\n",
    "print(f\"Steps: {steps}\")"
   ]
  },
  {
   "cell_type": "code",
   "execution_count": 8,
   "metadata": {},
   "outputs": [
    {
     "name": "stdout",
     "output_type": "stream",
     "text": [
      "Robot 0 found 206 boxes in positions \n",
      " [[0 0 0 0 0 0 0 0 0 0 0 5 0 0 0 0 0 0 0 0]\n",
      " [0 0 4 0 0 5 0 5 0 0 0 0 0 0 0 0 5 0 0 5]\n",
      " [0 0 0 0 0 0 0 0 0 0 0 0 0 0 0 0 0 0 0 0]\n",
      " [0 0 0 0 5 0 0 0 5 0 5 0 0 4 0 0 0 0 0 0]\n",
      " [0 0 5 0 0 0 0 0 0 0 0 0 0 0 0 0 5 0 0 0]\n",
      " [5 0 0 0 0 0 5 0 0 0 0 0 0 0 0 0 0 0 0 0]\n",
      " [0 0 0 0 5 0 0 0 0 0 0 0 0 0 0 0 0 0 5 0]\n",
      " [0 0 0 0 0 0 0 0 0 0 5 5 0 5 0 5 0 0 0 0]\n",
      " [0 0 0 0 0 0 0 0 0 0 0 0 0 0 0 0 0 0 5 0]\n",
      " [0 0 0 5 0 0 0 0 0 0 0 0 0 0 0 0 0 0 0 0]\n",
      " [0 0 0 0 0 0 0 0 0 0 5 0 0 0 5 0 0 0 0 0]\n",
      " [0 0 0 0 5 5 0 0 0 0 0 0 0 0 0 0 0 0 0 0]\n",
      " [0 0 0 0 0 0 0 0 0 0 0 5 0 0 2 0 0 0 0 0]\n",
      " [0 0 5 0 0 0 0 0 0 0 0 0 0 0 5 0 0 0 0 0]\n",
      " [0 0 0 0 0 0 0 5 0 5 0 0 0 0 0 0 0 0 0 0]\n",
      " [0 0 0 0 0 5 0 0 0 0 0 0 5 0 0 0 0 0 0 0]\n",
      " [0 0 5 0 0 0 0 0 0 0 0 0 0 0 5 5 0 0 0 0]\n",
      " [0 0 0 0 0 0 0 0 0 0 0 0 5 0 0 0 0 0 0 0]\n",
      " [0 0 4 0 0 0 0 0 0 0 0 0 0 0 0 0 5 5 0 0]\n",
      " [0 0 0 0 0 5 0 0 0 0 0 0 0 0 0 0 2 0 0 0]]\n",
      "Robot 0 has a box\n",
      "Unstacked boxes: \n",
      " [[0 0 0 0 0 0 0 0 0 0 0 0 0 0 0 0 0 0 0 0]\n",
      " [0 0 4 0 0 0 0 0 0 0 0 0 0 0 0 0 0 0 0 0]\n",
      " [0 0 0 0 0 0 0 0 0 0 0 0 0 0 0 0 0 0 0 0]\n",
      " [0 0 0 0 0 0 0 0 0 0 0 0 0 4 0 0 0 0 0 0]\n",
      " [0 0 0 0 0 0 0 0 0 0 0 0 0 0 0 0 0 0 0 0]\n",
      " [0 0 0 0 0 0 0 0 0 0 0 0 0 0 0 0 0 0 0 0]\n",
      " [0 0 0 0 0 0 0 0 0 0 0 0 0 0 0 0 0 0 0 0]\n",
      " [0 0 0 0 0 0 0 0 0 0 0 0 0 0 0 0 0 0 0 0]\n",
      " [0 0 0 0 0 0 0 0 0 0 0 0 0 0 0 0 0 0 0 0]\n",
      " [0 0 0 0 0 0 0 0 0 0 0 0 0 0 0 0 0 0 0 0]\n",
      " [0 0 0 0 0 0 0 0 0 0 0 0 0 0 0 0 0 0 0 0]\n",
      " [0 0 0 0 0 0 0 0 0 0 0 0 0 0 0 0 0 0 0 0]\n",
      " [0 0 0 0 0 0 0 0 0 0 0 0 0 0 2 0 0 0 0 0]\n",
      " [0 0 0 0 0 0 0 0 0 0 0 0 0 0 0 0 0 0 0 0]\n",
      " [0 0 0 0 0 0 0 0 0 0 0 0 0 0 0 0 0 0 0 0]\n",
      " [0 0 0 0 0 0 0 0 0 0 0 0 0 0 0 0 0 0 0 0]\n",
      " [0 0 0 0 0 0 0 0 0 0 0 0 0 0 0 0 0 0 0 0]\n",
      " [0 0 0 0 0 0 0 0 0 0 0 0 0 0 0 0 0 0 0 0]\n",
      " [0 0 4 0 0 0 0 0 0 0 0 0 0 0 0 0 0 0 0 0]\n",
      " [0 0 0 0 0 0 0 0 0 0 0 0 0 0 0 0 2 0 0 0]]\n"
     ]
    }
   ],
   "source": [
    "for agent in model.schedule.agents:\n",
    "    print(f\"Robot {agent.id} found {sum(sum(agent.found_boxes))} boxes in positions \\n {agent.found_boxes}\")\n",
    "    if agent.has_box:\n",
    "        print(f\"Robot {agent.id} has a box\")\n",
    "    unstacked_boxes = np.where(agent.found_boxes < 5, agent.found_boxes, 0)\n",
    "    print(\"Unstacked boxes: \\n\", unstacked_boxes)\n",
    "    # return np.count_nonzero(unstacked_boxes)"
   ]
  },
  {
   "cell_type": "code",
   "execution_count": 9,
   "metadata": {},
   "outputs": [],
   "source": [
    "all_positions = model.datacollector.get_model_vars_dataframe()"
   ]
  },
  {
   "cell_type": "code",
   "execution_count": 10,
   "metadata": {},
   "outputs": [
    {
     "name": "stderr",
     "output_type": "stream",
     "text": [
      "C:\\Users\\sgarn\\AppData\\Local\\Temp\\ipykernel_28128\\2148707644.py:2: FutureWarning: Series.__getitem__ treating keys as positions is deprecated. In a future version, integer keys will always be treated as labels (consistent with DataFrame behavior). To access a value by position, use `ser.iloc[pos]`\n",
      "  scatter = ax.scatter(all_positions.iloc[0][0][:,0], all_positions.iloc[0][0][:,1], s=10, edgecolor=\"k\")\n",
      "C:\\Users\\sgarn\\AppData\\Local\\Temp\\ipykernel_28128\\2148707644.py:6: FutureWarning: Series.__getitem__ treating keys as positions is deprecated. In a future version, integer keys will always be treated as labels (consistent with DataFrame behavior). To access a value by position, use `ser.iloc[pos]`\n",
      "  scatter.set_offsets(all_positions.iloc[i][0])\n"
     ]
    },
    {
     "data": {
      "image/png": "[encoded data removed]",
      "text/plain": [
       "<Figure size 300x300 with 1 Axes>"
      ]
     },
     "metadata": {},
     "output_type": "display_data"
    }
   ],
   "source": [
    "fig, ax = plt.subplots(figsize=(3, 3))\n",
    "scatter = ax.scatter(all_positions.iloc[0][0][:,0], all_positions.iloc[0][0][:,1], s=10, edgecolor=\"k\")\n",
    "ax.axis([0, WIDTH, 0, HEIGHT])\n",
    "\n",
    "def animate(i):\n",
    "    scatter.set_offsets(all_positions.iloc[i][0])\n",
    "    return scatter\n",
    "\n",
    "anim = animation.FuncAnimation(fig, animate, frames = ITERATIONS)"
   ]
  },
  {
   "cell_type": "code",
   "execution_count": 11,
   "metadata": {},
   "outputs": [],
   "source": [
    "# anim"
   ]
  },
  {
   "cell_type": "code",
   "execution_count": 12,
   "metadata": {},
   "outputs": [
    {
     "name": "stderr",
     "output_type": "stream",
     "text": [
      "C:\\Users\\sgarn\\AppData\\Local\\Temp\\ipykernel_28128\\536203090.py:1: FutureWarning: Series.__getitem__ treating keys as positions is deprecated. In a future version, integer keys will always be treated as labels (consistent with DataFrame behavior). To access a value by position, use `ser.iloc[pos]`\n",
      "  box_positions = all_positions.iloc[0][1]\n"
     ]
    },
    {
     "data": {
      "image/png": "[encoded data removed]",
      "text/plain": [
       "<Figure size 640x480 with 2 Axes>"
      ]
     },
     "metadata": {},
     "output_type": "display_data"
    }
   ],
   "source": [
    "box_positions = all_positions.iloc[0][1]\n",
    "box_counts = np.zeros((WIDTH, HEIGHT), dtype=int)\n",
    "for x in range(model.grid.width):\n",
    "    for y in range(model.grid.height):\n",
    "      box_counts[y][x] = box_positions[x][y]\n",
    "\n",
    "cmap = plt.cm.Greys\n",
    "\n",
    "plt.imshow(box_counts, cmap=cmap, interpolation='nearest', origin=\"lower\", extent=[0, HEIGHT, 0, WIDTH])\n",
    "plt.colorbar()\n",
    "\n",
    "# Set ticks for both axes\n",
    "plt.xticks(np.arange(0, HEIGHT+1, 1))\n",
    "plt.yticks(np.arange(0, WIDTH+1, 1))\n",
    "\n",
    "# Add grid lines\n",
    "plt.grid(color='gray', linestyle='--', linewidth=0.5)"
   ]
  }
 ],
 "metadata": {
  "kernelspec": {
   "display_name": "Python 3",
   "language": "python",
   "name": "python3"
  },
  "language_info": {
   "codemirror_mode": {
    "name": "ipython",
    "version": 3
   },
   "file_extension": ".py",
   "mimetype": "text/x-python",
   "name": "python",
   "nbconvert_exporter": "python",
   "pygments_lexer": "ipython3",
   "version": "3.11.0"
  }
 },
 "nbformat": 4,
 "nbformat_minor": 5
}
