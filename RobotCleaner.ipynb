{
 "cells": [
  {
   "cell_type": "markdown",
   "metadata": {},
   "source": [
    "# Robot de Almacén"
   ]
  },
  {
   "cell_type": "markdown",
   "metadata": {},
   "source": [
    "### Datos a considerar\n",
    "- La semilla para generación de números aleatorios será 67890.\n",
    "- El almacén es 20x20 celdas.\n",
    "- Al inicio de la simulación, tu solución deberá colocar 200 cajas repartidas en grupos de 1 a 3 cajas en posiciones aleatorias.\n",
    "- Todos los robots empiezan en posiciones aleatorias vacías. Y, sólo puede haber un robot por celda.\n",
    "- La simulación termina cuando todas las cajas se encuentra apiladas en pilas de exactamente 5 cajas.\n"
   ]
  },
  {
   "cell_type": "markdown",
   "metadata": {},
   "source": [
    "### Resultados\n",
    "-\tDescripción detallada de la estrategia y los mecanismos utilizados en tu solución.\n",
    "-\tUna visualización que permita ver los diferentes pasos de la simulación.\n",
    "-\tEl número de pasos necesarios para terminar la simulación.\n",
    "-\t¿Existe una forma de reducir el número de pasos utilizados? Si es así, ¿cuál es la estrategia que se tendría en implementar?\n"
   ]
  },
  {
   "cell_type": "markdown",
   "metadata": {},
   "source": [
    "### Imports\n",
    "\n",
    "Antes de empezar a crear el modelo del juego de la vida con multiagentes es necesario tener instalado los siguientes paquetes:\n",
    "- `python`: asegúrense de usar la versión 3+.\n",
    "- `mesa`: el framework de Python para el modelado de agentes.\n",
    "- `numpy`: es una biblioteca de Python para el manejo de matrices, arreglos, manipulación matemática, lógica y mucho más.\n",
    "- `matplotlib`: es una biblioteca para crear visualizaciones estáticas, animadas e interactivas en Python.\n",
    "\n",
    "Para poder modelar a los integrantes de nuestro sistema usando el framework de `mesa` es necesario importar dos clases: una para el modelo general, y otro para los agentes."
   ]
  },
  {
   "cell_type": "code",
   "execution_count": 832,
   "metadata": {},
   "outputs": [],
   "source": [
    "# Importamos las clases que se requieren para manejar los agentes (Agent) y su entorno (Model).\n",
    "# Cada modelo puede contener múltiples agentes.\n",
    "from mesa import Agent, Model\n",
    "from mesa.time import SimultaneousActivation\n",
    "from mesa.space import MultiGrid\n",
    "\n",
    "# Haremos uso de ''DataCollector'' para obtener información de cada paso de la simulación.\n",
    "from mesa.datacollection import DataCollector\n",
    "\n",
    "# matplotlib lo usaremos crear una animación de cada uno de los pasos del modelo.\n",
    "%matplotlib inline\n",
    "import matplotlib\n",
    "import matplotlib.pyplot as plt\n",
    "import matplotlib.animation as animation\n",
    "plt.rcParams[\"animation.html\"] = \"jshtml\"\n",
    "matplotlib.rcParams['animation.embed_limit'] = 2**128\n",
    "\n",
    "# Importamos los siguientes paquetes para el mejor manejo de valores numéricos.\n",
    "import numpy as np\n",
    "import pandas as pd\n",
    "import random\n",
    "\n",
    "# Definimos otros paquetes que vamos a usar para medir el tiempo de ejecución de nuestro algoritmo.\n",
    "import time\n",
    "import datetime"
   ]
  },
  {
   "cell_type": "code",
   "execution_count": 833,
   "metadata": {},
   "outputs": [],
   "source": [
    "class RobotAgent(Agent):\n",
    "    def __init__(self, id, model):\n",
    "        super().__init__(id, model)\n",
    "        self.id = id\n",
    "        self.has_box = False\n",
    "        self.active = True\n",
    "        self.target = None\n",
    "        self.found_boxes = np.zeros((model.grid.width, model.grid.height), dtype=int)\n",
    "        self.positions = []\n",
    "\n",
    "    def step(self):\n",
    "        \"\"\"\n",
    "        Función que ejecuta el comportamiento del robot en cada paso de la simulación.\n",
    "        \"\"\"\n",
    "\n",
    "        possible_cells = self.model.grid.get_neighborhood(\n",
    "            self.pos, moore=False, include_center = False)\n",
    "\n",
    "        if self.has_box and len(self.find_uncompleted_stacks()) == 0 and np.count_nonzero(self.found_boxes == 5) > 39:\n",
    "            self.drop_box(possible_cells)\n",
    "            if(self.id != 0):\n",
    "                self.active = False\n",
    "\n",
    "        if self.active:\n",
    "            if self.has_box and self.target == None:\n",
    "                # print(f\"Agent {self.id} has a box and no target\")\n",
    "                self.select_target()\n",
    "\n",
    "                if self.target == None:\n",
    "                    # print(f\"Agent {self.id} has no target\")\n",
    "                    self.drop_box(possible_cells)\n",
    "                    self.move(possible_cells)\n",
    "                    return\n",
    "\n",
    "            if self.target and self.has_box:\n",
    "                # print(f\"Agent {self.id} has a box and a target\")\n",
    "                self.move_to_target()\n",
    "                return\n",
    "\n",
    "            if not self.target:\n",
    "                # print(f\"Agent {self.id} has no target\")\n",
    "                self.analyze(possible_cells)\n",
    "                self.move(possible_cells)\n",
    "\n",
    "    def move(self, possible_cells):\n",
    "        \"\"\"\n",
    "        Función que mueve al robot a una celda aleatoria.\n",
    "        \"\"\"\n",
    "        empty_cells = [cell for cell in possible_cells if self.model.boxes[cell] == 0 and not self.has_cellmate(cell)]\n",
    "\n",
    "        if empty_cells:\n",
    "            new_position = random.choice(empty_cells)\n",
    "            self.model.grid.move_agent(self, new_position)\n",
    "            self.pos = new_position\n",
    "            self.positions.append(new_position)\n",
    "        else:\n",
    "            # If no empty cells are available, drop the box\n",
    "            self.drop_box(possible_cells)\n",
    "\n",
    "    def analyze(self, possible_cells):\n",
    "        \"\"\"\n",
    "        Función que busca cajas en las celdas vecinas y las recoge o deja\n",
    "        según el número de cajas que haya en la celda.\n",
    "        \"\"\"\n",
    "        for cell in possible_cells:\n",
    "            if self.model.boxes[cell] > 0 and self.target == None:\n",
    "                self.found_boxes[cell] = self.model.boxes[cell]\n",
    "                if self.has_box and self.model.boxes[cell] < 5:\n",
    "                    self.stack_box(cell)\n",
    "                elif not self.has_box and self.model.boxes[cell] < 3:\n",
    "                    self.pick_box(cell)\n",
    "                    self.select_target()\n",
    "\n",
    "    def pick_box(self, cell):\n",
    "        \"\"\"\n",
    "        Función que recoge una caja de una celda y actualiza los valores de\n",
    "        las cajas en el modelo.\n",
    "        \"\"\"\n",
    "        self.has_box = True\n",
    "        self.model.boxes[cell] -= 1\n",
    "        self.found_boxes[cell] -= 1\n",
    "\n",
    "    def stack_box(self, cell):\n",
    "        \"\"\"\n",
    "        Función que deja una caja en una celda y actualiza los valores de las cajas en el modelo.\n",
    "        \"\"\"\n",
    "        self.has_box = False\n",
    "        self.model.boxes[cell] += 1\n",
    "        self.found_boxes[cell] += 1\n",
    "\n",
    "    def drop_box(self, possible_cells):\n",
    "        \"\"\"\n",
    "        Función que deja una caja en una celda vacía y actualiza los valores de las cajas en el modelo.\n",
    "        \"\"\"\n",
    "        for cell in possible_cells:\n",
    "            cellmate = self.has_cellmate(cell)\n",
    "            if self.model.boxes[cell] == 0 and not cellmate:\n",
    "                self.stack_box(cell)\n",
    "                self.target = None\n",
    "                return\n",
    "\n",
    "    def find_uncompleted_stacks(self):\n",
    "        \"\"\"\n",
    "        Función que calcula el número de cajas que el robot ha recogido.\n",
    "        \"\"\"\n",
    "        uncompleted_stacks = []\n",
    "        for x in range(self.model.grid.width):\n",
    "            for y in range(self.model.grid.height):\n",
    "                if self.found_boxes[x][y] < 5 and self.found_boxes[x][y] > 2:\n",
    "                    uncompleted_stacks.append((x,y))\n",
    "        return uncompleted_stacks\n",
    "\n",
    "    def move_to_target(self):\n",
    "        \"\"\"\n",
    "        Función que mueve al robot a la celda objetivo un paso más cerca por cada paso de la simulación.\n",
    "        \"\"\"\n",
    "        neighbor_cells = self.model.grid.get_neighborhood(\n",
    "            self.pos, moore=False, include_center = False)\n",
    "\n",
    "        # print(f\"Agent {self.id} could be stucked at {self.pos}\")\n",
    "\n",
    "        if self.target in neighbor_cells:\n",
    "            # print(f\"Agent {self.id} is at target\")\n",
    "            if self.model.boxes[self.target] < 5:\n",
    "                # print(f\"Agent {self.id} is stacking box\")\n",
    "                self.stack_box(self.target)\n",
    "                self.target = None\n",
    "            else:\n",
    "                # print(f\"Agent {self.id} current target {self.target}\")\n",
    "                # print(f\"Agent {self.id} is selecting new target\")\n",
    "                self.select_target()\n",
    "            return\n",
    "\n",
    "        new_position = ()\n",
    "        if self.pos[0] < self.target[0]:\n",
    "            new_position = (self.pos[0] + 1, self.pos[1])\n",
    "            if self.has_cellmate(new_position):\n",
    "                return\n",
    "        elif self.pos[0] > self.target[0]:\n",
    "            new_position = (self.pos[0] - 1, self.pos[1])\n",
    "            if self.has_cellmate(new_position):\n",
    "                return\n",
    "        elif self.pos[1] < self.target[1]:\n",
    "            new_position = (self.pos[0], self.pos[1] + 1)\n",
    "            if self.has_cellmate(new_position):\n",
    "                return\n",
    "        elif self.pos[1] > self.target[1]:\n",
    "            new_position = (self.pos[0], self.pos[1] - 1)\n",
    "            if self.has_cellmate(new_position):\n",
    "                return\n",
    "\n",
    "        self.model.grid.move_agent(self, new_position)\n",
    "        self.pos = new_position\n",
    "        self.positions.append(new_position)\n",
    "\n",
    "    def has_cellmate(self, cell):\n",
    "        \"\"\"\n",
    "        Función que verifica si una celda tiene un agente.\n",
    "        \"\"\"\n",
    "        cellmate = self.model.grid.get_cell_list_contents([cell])\n",
    "        return len(cellmate) > 0\n",
    "\n",
    "    def select_target(self):\n",
    "        \"\"\"\n",
    "        Función que selecciona una celda objetivo.\n",
    "        \"\"\"\n",
    "        self.target = None\n",
    "        us = self.find_uncompleted_stacks()\n",
    "\n",
    "        # print(f\"Agent {self.id} is selecting target from {us}\")\n",
    "\n",
    "        if len(us) > 1 and self.has_box:\n",
    "            self.target = random.choice(us)"
   ]
  },
  {
   "cell_type": "code",
   "execution_count": 834,
   "metadata": {},
   "outputs": [],
   "source": [
    "def get_robots(model):\n",
    "    return np.asarray([agent.pos for agent in model.schedule.agents])"
   ]
  },
  {
   "cell_type": "code",
   "execution_count": 835,
   "metadata": {},
   "outputs": [],
   "source": [
    "def get_boxes(model):\n",
    "    return model.boxes"
   ]
  },
  {
   "cell_type": "code",
   "execution_count": 836,
   "metadata": {},
   "outputs": [],
   "source": [
    "class WarehouseModel(Model):\n",
    "    def __init__(self, width, height, num_agents, num_boxes):\n",
    "        self.schedule = SimultaneousActivation(self)\n",
    "        self.grid = MultiGrid(width, height, torus=False)\n",
    "        self.boxes = np.zeros((width, height), dtype=int)\n",
    "        self.datacollector = DataCollector(model_reporters={\"Robot\": get_robots, \"Boxes\": get_boxes})\n",
    "        self.running = True\n",
    "\n",
    "        init_boxes = 0\n",
    "        while init_boxes < num_boxes:\n",
    "            x, y = np.random.randint(0, width), np.random.randint(0, height)\n",
    "            if self.boxes[x, y] < 3:\n",
    "              self.boxes[x, y] += 1\n",
    "              init_boxes += 1\n",
    "\n",
    "        agent_pos = []\n",
    "        while len(agent_pos) < num_agents:\n",
    "            x, y = np.random.randint(0, width), np.random.randint(0, height)\n",
    "            if (x, y) not in agent_pos and self.boxes[x, y] == 0:\n",
    "                agent = RobotAgent(len(agent_pos), self)\n",
    "                self.schedule.add(agent)\n",
    "                self.grid.place_agent(agent, (x, y))\n",
    "                agent_pos.append((x, y))\n",
    "\n",
    "        print(f\"\\nInitial total boxes: {sum(sum(self.boxes))}\\n\")\n",
    "\n",
    "    def step(self):\n",
    "         if self.running == False:\n",
    "             return\n",
    "\n",
    "         self.datacollector.collect(self)\n",
    "         self.schedule.step()"
   ]
  },
  {
   "cell_type": "code",
   "execution_count": 837,
   "metadata": {},
   "outputs": [],
   "source": [
    "WIDTH = 20\n",
    "HEIGHT = 20\n",
    "ROBOTS = 5\n",
    "ITERATIONS = 200\n",
    "MAX_BOXES = 1000\n",
    "SEED = 67890\n",
    "random.seed(SEED)"
   ]
  },
  {
   "cell_type": "code",
   "execution_count": 838,
   "metadata": {},
   "outputs": [
    {
     "name": "stdout",
     "output_type": "stream",
     "text": [
      "\n",
      "Initial total boxes: 1000\n",
      "\n",
      "Total steps: 200\n",
      "Total stacked boxes: 1000\n",
      "Total completed stacks: 3\n"
     ]
    }
   ],
   "source": [
    "model = WarehouseModel(WIDTH, HEIGHT, ROBOTS, MAX_BOXES)\n",
    "steps = 0\n",
    "while (model.running):\n",
    "    model.step()\n",
    "    stacks = np.count_nonzero(model.boxes == 5)\n",
    "    steps += 1\n",
    "    if(stacks == 40 or steps == ITERATIONS):\n",
    "        break\n",
    "\n",
    "print(f\"Total steps: {steps}\")\n",
    "print(f\"Total stacked boxes: {sum(sum(model.boxes))}\")\n",
    "print(f\"Total completed stacks: {np.count_nonzero(model.boxes == 5)}\")"
   ]
  },
  {
   "cell_type": "code",
   "execution_count": 839,
   "metadata": {},
   "outputs": [
    {
     "name": "stdout",
     "output_type": "stream",
     "text": [
      "Agent 0 positions: []\n",
      "Agent 1 positions: []\n",
      "Agent 2 positions: [(11, 0), (12, 0), (11, 0), (12, 0), (11, 0), (12, 0), (11, 0), (11, 1), (11, 0), (11, 1), (11, 0), (12, 0), (11, 0), (12, 0), (11, 0), (11, 1), (11, 0), (11, 1), (11, 0), (12, 0), (11, 0), (11, 1), (11, 0), (11, 1), (11, 0), (11, 1), (11, 0), (11, 1), (11, 0), (11, 1), (11, 0), (12, 0), (11, 0), (12, 0), (11, 0), (12, 0), (11, 0), (11, 1), (11, 0), (11, 1), (11, 0), (12, 0), (11, 0), (12, 0), (11, 0), (11, 1), (11, 0), (12, 0), (11, 0), (12, 0), (11, 0), (12, 0), (11, 0), (12, 0), (11, 0), (12, 0), (11, 0), (11, 1), (11, 0), (11, 1), (11, 0), (12, 0), (11, 0), (12, 0), (11, 0), (12, 0), (11, 0), (12, 0), (11, 0), (12, 0), (11, 0), (11, 1), (11, 0), (12, 0), (11, 0), (11, 1), (11, 0), (12, 0), (11, 0), (12, 0), (11, 0), (11, 1), (11, 0), (12, 0), (11, 0), (12, 0), (11, 0), (11, 1), (11, 0), (12, 0), (11, 0), (11, 1), (11, 0), (11, 1), (11, 0), (12, 0), (11, 0), (12, 0), (11, 0), (12, 0), (11, 0), (12, 0), (11, 0), (12, 0), (11, 0), (11, 1), (11, 0), (11, 1), (11, 0), (12, 0), (11, 0), (11, 1), (11, 0), (12, 0), (11, 0), (11, 1), (11, 0), (12, 0), (11, 0), (11, 1), (11, 0), (11, 1), (11, 0), (12, 0), (11, 0), (11, 1), (11, 0), (11, 1), (11, 0), (12, 0), (11, 0), (11, 1), (11, 0), (12, 0), (11, 0), (11, 1), (11, 0), (12, 0), (11, 0), (11, 1), (11, 0), (12, 0), (11, 0), (11, 1), (11, 0), (11, 1), (11, 0), (12, 0), (11, 0), (12, 0), (11, 0), (12, 0), (11, 0), (12, 0), (11, 0), (12, 0), (11, 0), (11, 1), (11, 0), (12, 0), (11, 0), (12, 0), (11, 0), (11, 1), (11, 0), (11, 1), (11, 0), (12, 0), (11, 0), (12, 0), (11, 0), (11, 1), (11, 0), (12, 0), (11, 0), (12, 0), (11, 0), (12, 0), (11, 0), (11, 1), (11, 0), (12, 0), (11, 0), (11, 1), (11, 0), (12, 0), (11, 0), (11, 1), (11, 0), (11, 1), (11, 0), (11, 1), (11, 0), (11, 1), (11, 0), (12, 0), (11, 0), (12, 0), (11, 0)]\n",
      "Agent 3 positions: []\n",
      "Agent 4 positions: [(10, 10), (9, 10), (10, 10), (9, 10), (10, 10), (9, 10), (10, 10), (9, 10), (10, 10), (9, 10), (10, 10), (10, 11), (10, 10), (10, 11), (11, 11), (10, 11), (11, 11), (11, 12), (11, 11), (11, 12), (11, 11), (10, 11), (9, 11), (9, 10), (10, 10), (9, 10), (10, 10), (10, 11), (11, 11), (10, 11), (11, 11), (11, 12), (11, 11), (10, 11), (10, 10), (9, 10), (10, 10), (9, 10), (10, 10), (10, 11), (11, 11), (11, 12), (11, 11), (10, 11), (11, 11), (11, 12), (11, 11), (11, 12), (11, 13), (11, 12), (10, 12), (9, 12), (9, 11), (9, 10), (10, 10), (9, 10), (10, 10), (10, 11), (11, 11), (10, 11), (10, 10), (10, 11), (10, 10), (9, 10), (10, 10), (10, 11), (10, 10), (9, 10), (10, 10), (9, 10), (10, 10), (10, 11), (11, 11), (10, 11), (10, 10), (10, 11), (10, 10), (10, 11), (11, 11), (11, 12), (11, 11), (11, 12), (11, 13), (11, 12), (12, 12), (11, 12), (11, 11), (10, 11), (10, 10), (10, 11), (11, 11), (11, 12), (11, 11), (10, 11), (10, 10), (9, 10), (10, 10), (10, 11), (10, 10), (9, 10), (10, 10), (10, 11), (11, 11), (10, 11), (10, 10), (9, 10), (10, 10), (10, 11), (10, 10), (9, 10), (10, 10), (10, 11), (11, 11), (11, 12), (11, 11), (10, 11), (11, 11), (10, 11), (10, 10), (10, 11), (11, 11), (11, 12), (11, 11), (11, 12), (11, 13), (11, 12), (11, 11), (10, 11), (11, 11), (10, 11), (10, 10), (10, 11), (11, 11), (10, 11), (11, 11), (10, 11), (10, 10), (9, 10), (10, 10), (10, 11), (11, 11), (10, 11), (10, 10), (10, 11), (10, 10), (10, 11), (11, 11), (10, 11), (10, 10), (9, 10), (10, 10), (10, 11), (10, 10), (10, 11), (10, 10), (9, 10), (10, 10), (9, 10), (10, 10), (10, 11), (11, 11), (10, 11), (10, 10), (10, 11), (11, 11), (11, 12), (11, 13), (11, 14), (11, 13), (11, 14), (11, 13), (11, 12), (11, 13), (11, 12), (11, 11), (11, 12), (11, 13), (11, 14), (11, 13), (11, 14), (11, 13), (11, 12), (11, 11), (10, 11), (10, 10), (10, 11), (10, 10), (9, 10), (10, 10)]\n"
     ]
    }
   ],
   "source": [
    "for agent in model.schedule.agents:\n",
    "    print(f\"Agent {agent.id} positions: {agent.positions}\")\n",
    "    if agent.has_box:\n",
    "        print(f\"Agent {agent.id} still has a box\")\n",
    "        print(f\"{sum(sum(agent.found_boxes))}\")"
   ]
  },
  {
   "cell_type": "code",
   "execution_count": 840,
   "metadata": {},
   "outputs": [],
   "source": [
    "all_positions = model.datacollector.get_model_vars_dataframe()"
   ]
  },
  {
   "cell_type": "code",
   "execution_count": 841,
   "metadata": {},
   "outputs": [
    {
     "name": "stderr",
     "output_type": "stream",
     "text": [
      "C:\\Users\\sgarn\\AppData\\Local\\Temp\\ipykernel_17516\\2148707644.py:2: FutureWarning: Series.__getitem__ treating keys as positions is deprecated. In a future version, integer keys will always be treated as labels (consistent with DataFrame behavior). To access a value by position, use `ser.iloc[pos]`\n",
      "  scatter = ax.scatter(all_positions.iloc[0][0][:,0], all_positions.iloc[0][0][:,1], s=10, edgecolor=\"k\")\n",
      "C:\\Users\\sgarn\\AppData\\Local\\Temp\\ipykernel_17516\\2148707644.py:6: FutureWarning: Series.__getitem__ treating keys as positions is deprecated. In a future version, integer keys will always be treated as labels (consistent with DataFrame behavior). To access a value by position, use `ser.iloc[pos]`\n",
      "  scatter.set_offsets(all_positions.iloc[i][0])\n"
     ]
    },
    {
     "data": {
      "image/png": "[encoded data removed]",
      "text/plain": [
       "<Figure size 300x300 with 1 Axes>"
      ]
     },
     "metadata": {},
     "output_type": "display_data"
    }
   ],
   "source": [
    "fig, ax = plt.subplots(figsize=(3, 3))\n",
    "scatter = ax.scatter(all_positions.iloc[0][0][:,0], all_positions.iloc[0][0][:,1], s=10, edgecolor=\"k\")\n",
    "ax.axis([0, WIDTH, 0, HEIGHT])\n",
    "\n",
    "def animate(i):\n",
    "    scatter.set_offsets(all_positions.iloc[i][0])\n",
    "    return scatter\n",
    "\n",
    "anim = animation.FuncAnimation(fig, animate, frames = ITERATIONS)"
   ]
  },
  {
   "cell_type": "code",
   "execution_count": 842,
   "metadata": {},
   "outputs": [],
   "source": [
    "# anim"
   ]
  },
  {
   "cell_type": "code",
   "execution_count": 843,
   "metadata": {},
   "outputs": [
    {
     "name": "stderr",
     "output_type": "stream",
     "text": [
      "C:\\Users\\sgarn\\AppData\\Local\\Temp\\ipykernel_17516\\536203090.py:1: FutureWarning: Series.__getitem__ treating keys as positions is deprecated. In a future version, integer keys will always be treated as labels (consistent with DataFrame behavior). To access a value by position, use `ser.iloc[pos]`\n",
      "  box_positions = all_positions.iloc[0][1]\n"
     ]
    },
    {
     "data": {
      "image/png": "[encoded data removed]",
      "text/plain": [
       "<Figure size 640x480 with 2 Axes>"
      ]
     },
     "metadata": {},
     "output_type": "display_data"
    }
   ],
   "source": [
    "box_positions = all_positions.iloc[0][1]\n",
    "box_counts = np.zeros((WIDTH, HEIGHT), dtype=int)\n",
    "for x in range(model.grid.width):\n",
    "    for y in range(model.grid.height):\n",
    "      box_counts[y][x] = box_positions[x][y]\n",
    "\n",
    "cmap = plt.cm.Greys\n",
    "\n",
    "plt.imshow(box_counts, cmap=cmap, interpolation='nearest', origin=\"lower\", extent=[0, HEIGHT, 0, WIDTH])\n",
    "plt.colorbar()\n",
    "\n",
    "# Set ticks for both axes\n",
    "plt.xticks(np.arange(0, HEIGHT+1, 1))\n",
    "plt.yticks(np.arange(0, WIDTH+1, 1))\n",
    "\n",
    "# Add grid lines\n",
    "plt.grid(color='gray', linestyle='--', linewidth=0.5)"
   ]
  }
 ],
 "metadata": {
  "kernelspec": {
   "display_name": "Python 3",
   "language": "python",
   "name": "python3"
  },
  "language_info": {
   "codemirror_mode": {
    "name": "ipython",
    "version": 3
   },
   "file_extension": ".py",
   "mimetype": "text/x-python",
   "name": "python",
   "nbconvert_exporter": "python",
   "pygments_lexer": "ipython3",
   "version": "3.11.0"
  }
 },
 "nbformat": 4,
 "nbformat_minor": 5
}
